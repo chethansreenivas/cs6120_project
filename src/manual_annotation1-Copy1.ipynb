{
 "cells": [
  {
   "cell_type": "code",
   "execution_count": 1,
   "metadata": {},
   "outputs": [],
   "source": [
    "import spacy\n",
    "import os\n",
    "import numpy as np\n",
    "import scipy.spatial.distance as distance\n",
    "import gensim\n",
    "import re"
   ]
  },
  {
   "cell_type": "code",
   "execution_count": 3,
   "metadata": {},
   "outputs": [],
   "source": [
    "import json"
   ]
  },
  {
   "cell_type": "code",
   "execution_count": 4,
   "metadata": {},
   "outputs": [],
   "source": [
    "with open('NBCUniversal_anno1.txt') as json_file:\n",
    "    ref_dict = json.load(json_file)"
   ]
  },
  {
   "cell_type": "code",
   "execution_count": 5,
   "metadata": {},
   "outputs": [
    {
     "data": {
      "text/plain": [
       "dict_values(['0', '0', '0', '0', '0', '0', '0', '0', '0', '0', '0', '0', '1', '2', '0', '45', '0', '34', '0', '0', '0', '0', '0', '0', '0', '0', '0', '0', '0', '1', '1', '1', '1', '1', '1', '1', '1', '1', '1', '1', '1', '1234', '2', '4', '0', '2', '0', '0', '0', '1', '5', '5', '1', '1', '2', '0', '0', '1', '1', '2', '34', '0', '4', '4', '4', '4', '4', '12', '1', '2', '2', '2', '2', '23', '34', '3', '34', '2', '0', '13', '3', '34', '0', '24', '24', '24', '2', '3', '0', '2', '2', '2', '2', '2', '2', '2', '2', '0', '0', '0', '0', '0', '0', '0', '5', '2', '0', '0', '0', '5', '0', '0', '5', '5', '5', '5', '5', '5', '0', '1', '5', '15', '0', '0', '0', '0', '5', '5', '0', '0', '0', '0', '0', '15', '4', '5', '0', '0', '5', '5', '5', '0', '1', '24', '2', '2', '2', '2', '2', '0', '0', '0', '0', '1', '0', '0', '0', '0', '2', '2', '0', '2', '2', '2', '0', '0', '4', '4', '0', '0', '4', '2', '2', '0', '0', '0', '12', '2', '1', '1', '1', '0', '0', '0', '0', '0', '0', '0', '0', '0'])"
      ]
     },
     "execution_count": 5,
     "metadata": {},
     "output_type": "execute_result"
    }
   ],
   "source": [
    "ref_dict.values()"
   ]
  },
  {
   "cell_type": "code",
   "execution_count": 6,
   "metadata": {},
   "outputs": [],
   "source": [
    "#ref_dict_str = dict([(str(k), v) for k, v in ref_dict.items()])"
   ]
  },
  {
   "cell_type": "code",
   "execution_count": 7,
   "metadata": {},
   "outputs": [],
   "source": [
    "final_dict1 = dict()"
   ]
  },
  {
   "cell_type": "code",
   "execution_count": 8,
   "metadata": {},
   "outputs": [],
   "source": [
    "final_dict1[\"0\"]=[]\n",
    "final_dict1[\"1\"]=[]\n",
    "final_dict1[\"2\"]=[]\n",
    "final_dict1[\"3\"]=[]\n",
    "final_dict1[\"4\"]=[]\n",
    "final_dict1[\"5\"]=[]\n",
    "for sent, val in ref_dict.items():\n",
    "    if int(val)>9:\n",
    "        class1 = str(val)[0]\n",
    "        class2 = str(val)[1]\n",
    "        final_dict1[class1].append(sent)\n",
    "        final_dict1[class2].append(sent)\n",
    "        if int(val)>99:\n",
    "            class3 = str(val)[2]\n",
    "            class4 = str(val)[3]\n",
    "            final_dict1[class3].append(sent)\n",
    "            final_dict1[class4].append(sent)\n",
    "    else:\n",
    "        final_dict1[str(val)].append(sent)\n",
    "        "
   ]
  },
  {
   "cell_type": "code",
   "execution_count": 11,
   "metadata": {},
   "outputs": [
    {
     "data": {
      "text/plain": [
       "['WHERE YOUR INFORMATION WILL BE USED   10.',\n",
       " 'You agree that we may share your video viewing with, or obtain information about your video viewing from, analytics providers and advertising partners and third-party social media sites for two years or until you withdraw your consent.',\n",
       " 'Please see Your Rights and Choices for further information about how you can control these updates; |||if you use an NBCUniversal e-commerce website to send gifts, we may use the email addresses that you provide to send your gifts, provide other communications relating to such transaction, as well as any further communications as may be authorized by the recipients; |||implement social networking features you have activated; and |||we may combine all the information we collect or receive about you for any of the foregoing purposes.',\n",
       " '|||Social Networks: You may interact with certain features of the online services that cause information to be published to your social networks.',\n",
       " 'For example, you may click on a Facebook \"like\" button, which publishes to your Facebook account that you \"like\" one of our TV shows or movies.',\n",
       " \"On pages of the online services that contain social network functionality, the social network providing the functionality may be able to collect information about you, even if you don't use that functionality.\",\n",
       " 'For example, if a page within the online services contains a Facebook \"like\" button, Facebook may be able to collect data about your visit to that page, even if you don\\'t click on the \"like\" button.',\n",
       " 'In addition, in relation to Mobile Apps we may share your usage and personal information with operating system, platforms providers, carriers and/or other mobile apps either operated by us or third parties.',\n",
       " 'Please see our Mobile Apps section for additional detail.',\n",
       " '|||Information we share with advertisers (including Targeted Advertising)   Some online services, including Mobile Apps, may be supported with advertising, and collect data to help the online services serve ads.',\n",
       " 'They might also obtain information about other applications that you have downloaded to your mobile device, the mobile websites you visit and other information about you or your device in order to analyze and serve anonymous targeted advertising on the online services and elsewhere.']"
      ]
     },
     "execution_count": 11,
     "metadata": {},
     "output_type": "execute_result"
    }
   ],
   "source": [
    "final_dict1[\"3\"]"
   ]
  },
  {
   "cell_type": "code",
   "execution_count": null,
   "metadata": {},
   "outputs": [],
   "source": []
  }
 ],
 "metadata": {
  "kernelspec": {
   "display_name": "Python 3",
   "language": "python",
   "name": "python3"
  },
  "language_info": {
   "codemirror_mode": {
    "name": "ipython",
    "version": 3
   },
   "file_extension": ".py",
   "mimetype": "text/x-python",
   "name": "python",
   "nbconvert_exporter": "python",
   "pygments_lexer": "ipython3",
   "version": "3.6.8"
  }
 },
 "nbformat": 4,
 "nbformat_minor": 2
}
